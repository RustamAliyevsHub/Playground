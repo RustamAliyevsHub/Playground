{
  "nbformat": 4,
  "nbformat_minor": 0,
  "metadata": {
    "colab": {
      "provenance": [],
      "authorship_tag": "ABX9TyPMS4MD4uEZln9thFsNXB+H",
      "include_colab_link": true
    },
    "kernelspec": {
      "name": "python3",
      "display_name": "Python 3"
    },
    "language_info": {
      "name": "python"
    }
  },
  "cells": [
    {
      "cell_type": "markdown",
      "metadata": {
        "id": "view-in-github",
        "colab_type": "text"
      },
      "source": [
        "<a href=\"https://colab.research.google.com/github/RustamAliyevsHub/Playground/blob/main/GL53%20reconcillation.ipynb\" target=\"_parent\"><img src=\"https://colab.research.google.com/assets/colab-badge.svg\" alt=\"Open In Colab\"/></a>"
      ]
    },
    {
      "cell_type": "code",
      "execution_count": 46,
      "metadata": {
        "id": "M7fsD8t3ElMi"
      },
      "outputs": [],
      "source": [
        "import pandas as pd\n",
        "from openpyxl import Workbook\n",
        "from openpyxl.utils.dataframe import dataframe_to_rows\n",
        "from openpyxl.styles import Font\n",
        "\n",
        "# Read the input data from an Excel file\n",
        "df = pd.read_excel('/content/GL53.xlsx')\n",
        "\n",
        "# Group the rows by the values in the second column\n",
        "groups = df.groupby(df.columns[1])\n",
        "\n",
        "# Define the columns to compare\n",
        "cols_to_compare = list(range(2, 12)) + list(range(14, df.shape[1]))\n",
        "\n",
        "# Create a new DataFrame to store the output\n",
        "output_df = pd.DataFrame(columns=['Group', 'Row Number'] + list(df.columns.difference([df.columns[0], df.columns[11]])))\n",
        "\n",
        "# Iterate over each group and find the rows with differences\n",
        "for group_name, group_df in groups:\n",
        "    # Reset the index to integer values\n",
        "    group_df = group_df.reset_index(drop=True)\n",
        "    \n",
        "    # Use the shift() method to compare the current row with the previous row\n",
        "    diffs = group_df.iloc[:, cols_to_compare].ne(group_df.iloc[:, cols_to_compare].shift())\n",
        "    \n",
        "    # Select only the rows with differences\n",
        "    diffs = diffs.any(axis=1)\n",
        "    \n",
        "    # Check if the group has more than 1 difference\n",
        "    if sum(diffs) > 1:\n",
        "        # Add the rows with differences to the output DataFrame\n",
        "        group_output = group_df.loc[diffs, group_df.columns.difference([df.columns[0], df.columns[11]])].copy()\n",
        "        group_output.insert(0, 'Group', group_name)\n",
        "        group_output.insert(1, 'Row Number', group_output.index + 1)\n",
        "        output_df = pd.concat([output_df, group_output], ignore_index=True)\n",
        "\n",
        "# Create a new Excel workbook and sheet\n",
        "workbook = Workbook()\n",
        "sheet = workbook.active\n",
        "\n",
        "# Write the DataFrame to the sheet\n",
        "for row in dataframe_to_rows(output_df, index=False, header=True):\n",
        "    sheet.append(row)\n",
        "\n",
        "# Define the font to use for bold cells\n",
        "bold_font = Font(bold=True)\n",
        "\n",
        "# Iterate over each row in the sheet, and bold the cells with differences\n",
        "for row in sheet.iter_rows(min_row=2):\n",
        "    has_diffs = False\n",
        "    for cell in row[2:]:\n",
        "        if cell.value is not None:\n",
        "            col_index = cell.column - 3  # Adjust for the first two columns that were added\n",
        "            row_index = row[1].value - 1\n",
        "            prev_row = group_df.iloc[row_index - 1] if row_index > 0 else None\n",
        "            if prev_row is not None and prev_row[col_index] == cell.value:\n",
        "                cell.style = 'Normal'\n",
        "            else:\n",
        "                has_diffs = True\n",
        "                cell.font = bold_font\n",
        "    if has_diffs:\n",
        "        row[0].font = bold_font\n",
        "        row[1].font = bold_font\n",
        "\n",
        "# Save the workbook to a new Excel file\n",
        "workbook.save('output.xlsx')\n"
      ]
    }
  ]
}