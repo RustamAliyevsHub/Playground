{
  "nbformat": 4,
  "nbformat_minor": 0,
  "metadata": {
    "colab": {
      "provenance": [],
      "authorship_tag": "ABX9TyNmY2igG1SK5khOl9QsfL1e",
      "include_colab_link": true
    },
    "kernelspec": {
      "name": "python3",
      "display_name": "Python 3"
    },
    "language_info": {
      "name": "python"
    }
  },
  "cells": [
    {
      "cell_type": "markdown",
      "metadata": {
        "id": "view-in-github",
        "colab_type": "text"
      },
      "source": [
        "<a href=\"https://colab.research.google.com/github/RustamAliyevsHub/Playground/blob/main/ImportBudgets.ipynb\" target=\"_parent\"><img src=\"https://colab.research.google.com/assets/colab-badge.svg\" alt=\"Open In Colab\"/></a>"
      ]
    },
    {
      "cell_type": "code",
      "execution_count": null,
      "metadata": {
        "id": "59dDb5gqagHp"
      },
      "outputs": [],
      "source": [
        "import pandas as pd\n",
        "\n",
        "# assume you have already read in your Excel data into a DataFrame called 'data'\n",
        "data = pd.read_excel('/content/GHH Budget 2023.xlsx', sheet_name='General Budget 2023', header=None, usecols=\"A:M\", skiprows=7, nrows=82)\n",
        "\n",
        "# drop any rows with NaN (i.e. blank) values\n",
        "data = data.dropna(how='all')\n",
        "\n",
        "# print the first few rows of the updated data\n",
        "print(data.head())"
      ]
    },
    {
      "cell_type": "code",
      "source": [
        "# replace all \"Spa & Fitness.\" values with \"Spa & Fitness\", and \"Spa & Fitness\" values with \"Spa & Fitness Revenues\" in the first column\n",
        "for index, row in data.iterrows():\n",
        "    if str(row[0]) == \"Spa & Fitness\":\n",
        "        data.at[index, 0] = \"Spa & Fitness Revenues\"\n",
        "    elif str(row[0]).startswith(\"SPA & Fitness.\"):\n",
        "        data.at[index, 0] = \"SPA & Fitness\"\n",
        "\n",
        "# generate a SQL insert statement for all rows of the data\n",
        "values = []\n",
        "for index, row in data.iterrows():\n",
        "    row_values = []\n",
        "    for value in row:\n",
        "        if isinstance(value, str):\n",
        "            row_values.append(f\"'{value}'\")\n",
        "        else:\n",
        "            row_values.append(str(value))\n",
        "    values.append(f\"({','.join(row_values)})\")\n",
        "\n",
        "# create a SQL insert statement with all the rows\n",
        "sql = \"INSERT INTO budget_data VALUES\\n\" + ',\\n'.join(values) + ';\\n'\n",
        "\n",
        "# print the SQL insert statement with every row on a new line\n",
        "print(sql)"
      ],
      "metadata": {
        "id": "MYWUS8YjkpBZ"
      },
      "execution_count": null,
      "outputs": []
    }
  ]
}