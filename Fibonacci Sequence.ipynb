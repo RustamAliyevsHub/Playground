{
  "nbformat": 4,
  "nbformat_minor": 0,
  "metadata": {
    "colab": {
      "name": "Untitled1.ipynb",
      "provenance": [],
      "authorship_tag": "ABX9TyPx1+MV/PU0/HYXqG+/4RcY",
      "include_colab_link": true
    },
    "kernelspec": {
      "name": "python3",
      "display_name": "Python 3"
    },
    "language_info": {
      "name": "python"
    }
  },
  "cells": [
    {
      "cell_type": "markdown",
      "metadata": {
        "id": "view-in-github",
        "colab_type": "text"
      },
      "source": [
        "<a href=\"https://colab.research.google.com/github/RustamAliyevsHub/Playground/blob/main/Fibonacci%20Sequence.ipynb\" target=\"_parent\"><img src=\"https://colab.research.google.com/assets/colab-badge.svg\" alt=\"Open In Colab\"/></a>"
      ]
    },
    {
      "cell_type": "code",
      "execution_count": 14,
      "metadata": {
        "colab": {
          "base_uri": "https://localhost:8080/"
        },
        "id": "jKBDcjzhNZ1k",
        "outputId": "0adcdd72-14d7-4999-a8dc-e815b564d817"
      },
      "outputs": [
        {
          "output_type": "stream",
          "name": "stdout",
          "text": [
            "Enter the size of list : 16\n",
            "[0, 1, 1, 2, 3, 5, 8, 13, 21, 34, 55, 89, 144, 233, 377, 610]\n"
          ]
        }
      ],
      "source": [
        "n = int(input(\"Enter the size of list : \"))\n",
        "\n",
        "def fibonacci_of(n):\n",
        "    # Validate the value of n\n",
        "    \n",
        "    if not (isinstance(n, int) and n >= 0):\n",
        "        raise ValueError(f'Positive integer number expected, got \"{n}\"')\n",
        "\n",
        "    # Handle the base cases\n",
        "    if n in {0, 1}:\n",
        "        return n\n",
        "\n",
        "    previous, fib_number = 0, 1\n",
        "    for _ in range(2, n + 1):\n",
        "        # Compute the next Fibonacci number, remember the previous one\n",
        "        previous, fib_number = fib_number, previous + fib_number\n",
        "\n",
        "    return fib_number\n",
        "\n",
        "print([fibonacci_of(n) for n in range(n)])"
      ]
    }
  ]
}