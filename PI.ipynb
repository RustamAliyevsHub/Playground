{
  "nbformat": 4,
  "nbformat_minor": 0,
  "metadata": {
    "colab": {
      "name": "Untitled2.ipynb",
      "provenance": [],
      "authorship_tag": "ABX9TyOdqcmikLTnfivq05NzBtk6",
      "include_colab_link": true
    },
    "kernelspec": {
      "name": "python3",
      "display_name": "Python 3"
    },
    "language_info": {
      "name": "python"
    }
  },
  "cells": [
    {
      "cell_type": "markdown",
      "metadata": {
        "id": "view-in-github",
        "colab_type": "text"
      },
      "source": [
        "<a href=\"https://colab.research.google.com/github/RustamAliyevsHub/Playground/blob/main/PI.ipynb\" target=\"_parent\"><img src=\"https://colab.research.google.com/assets/colab-badge.svg\" alt=\"Open In Colab\"/></a>"
      ]
    },
    {
      "cell_type": "code",
      "execution_count": 36,
      "metadata": {
        "colab": {
          "base_uri": "https://localhost:8080/"
        },
        "id": "_v-WPUKIe8JG",
        "outputId": "ec38d8de-2647-4436-81f4-769df97da3d7"
      },
      "outputs": [
        {
          "output_type": "stream",
          "name": "stdout",
          "text": [
            "Choose precision level from 1 (fast but inaccurate) to 3 (very slow but accurate) : 3\n",
            "3.1415926525880504\n"
          ]
        }
      ],
      "source": [
        "#Choose precision\n",
        "\n",
        "n = int(input(\"Choose precision level from 1 (fast but inaccurate) to 3 (very slow but accurate) : \"))\n",
        "\n",
        "# Initialize numerator\n",
        "\n",
        "numerator = 4.0\n",
        "\n",
        "# Initialize denominator\n",
        "\n",
        "denominator = 1.0\n",
        "\n",
        "# Initialize operation\n",
        "\n",
        "operation = 1.0\n",
        "\n",
        "# Initial value\n",
        "\n",
        "pi = 0.0\n",
        "\n",
        "while not int(n) in range(1,4):\n",
        "\n",
        "  n = int(input(\"Choose precision level from 1 (fast but inaccurate) to 3 (very slow but accurate) : \"))\n",
        "\n",
        "for i in range(10**(n*3)):\n",
        "      \n",
        "        pi += operation * (numerator / denominator)\n",
        "        denominator += 2\n",
        "        operation *= -1\n",
        "\n",
        "print(pi)\n",
        "  "
      ]
    }
  ]
}